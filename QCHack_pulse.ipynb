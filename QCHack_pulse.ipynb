{
 "cells": [
  {
   "cell_type": "code",
   "execution_count": 14,
   "id": "9d8e5981",
   "metadata": {},
   "outputs": [
    {
     "name": "stderr",
     "output_type": "stream",
     "text": [
      "ibmqfactory.load_account:WARNING:2021-04-11 00:13:24,548: Credentials are already in use. The existing account in the session will be replaced.\n"
     ]
    }
   ],
   "source": [
    "import numpy as np\n",
    "# Importing standard Qiskit libraries\n",
    "from qiskit import QuantumCircuit, transpile, Aer, IBMQ\n",
    "from qiskit.tools.jupyter import *\n",
    "from qiskit.visualization import *\n",
    "from ibm_quantum_widgets import *\n",
    "\n",
    "import warnings\n",
    "warnings.filterwarnings('ignore')\n",
    "\n",
    "import pickle\n",
    "import matplotlib.pyplot as plt\n",
    "%matplotlib inline\n",
    "#show version that is being operated\n",
    "import qiskit\n",
    "qiskit.__qiskit_version__\n",
    "# Loading your IBM Q account(s)\n",
    "provider = IBMQ.load_account()"
   ]
  },
  {
   "cell_type": "code",
   "execution_count": 21,
   "id": "39e7f2ed",
   "metadata": {},
   "outputs": [],
   "source": [
    "from qiskit import IBMQ, assemble\n",
    "from qiskit.tools.jupyter import backend_overview, backend_monitor\n",
    "from qiskit.tools.monitor import job_monitor\n",
    "\n",
    "#pulse_lib is where the waveform will be defined Gaussian, square, arbitrary shape\n",
    "import qiskit.pulse as pulse\n",
    "from qiskit.pulse import library as pulse_lib, Schedule, \\\n",
    "                        DriveChannel, MeasureChannel, AcquireChannel, MemorySlot, \\\n",
    "                        Acquire"
   ]
  },
  {
   "cell_type": "code",
   "execution_count": 22,
   "id": "7edef901",
   "metadata": {},
   "outputs": [
    {
     "name": "stderr",
     "output_type": "stream",
     "text": [
      "ibmqfactory.load_account:WARNING:2021-04-11 00:36:06,092: Credentials are already in use. The existing account in the session will be replaced.\n"
     ]
    },
    {
     "data": {
      "text/plain": [
       "<AccountProvider for IBMQ(hub='ibm-q', group='open', project='main')>"
      ]
     },
     "execution_count": 22,
     "metadata": {},
     "output_type": "execute_result"
    }
   ],
   "source": [
    "IBMQ.load_account()"
   ]
  },
  {
   "cell_type": "code",
   "execution_count": 26,
   "id": "22060122",
   "metadata": {},
   "outputs": [
    {
     "name": "stderr",
     "output_type": "stream",
     "text": [
      "ibmqfactory.load_account:WARNING:2021-04-11 00:50:38,497: Credentials are already in use. The existing account in the session will be replaced.\n"
     ]
    }
   ],
   "source": [
    "#provider = IBMQ.get_provider(hub='ibm-q-internal', group='support',\n",
    "#project='q-start-team')\n",
    "#backend = provider.get_backend('ibmq_armonk')#or ibmq_alamden\n",
    "#backend_config = backend.configuration()\n",
    "\n",
    "from qiskit import IBMQ\n",
    "IBMQ.load_account()\n",
    "provider = IBMQ.get_provider(hub='ibm-q', group='open', project='main')\n",
    "backend = provider.get_backend('ibmq_armonk')#or almalden "
   ]
  },
  {
   "cell_type": "code",
   "execution_count": 28,
   "id": "95cf396e",
   "metadata": {},
   "outputs": [
    {
     "name": "stdout",
     "output_type": "stream",
     "text": [
      "Sampling time: 0.2222222222222222 ns\n"
     ]
    }
   ],
   "source": [
    "#verify that the backend supports Pulse features\n",
    "#by checking the backend configuration\n",
    "backend_config = backend.configuration()\n",
    "assert backend_config.open_pulse, \"Backend doesn't support Pulse\"\n",
    "\n",
    "dt = backend_config.dt\n",
    "print(f\"Sampling time: {dt*1e9} ns\") #config ret dt in seconds multiply by\n",
    "                                        # 1e9 to get nanoseconds\n",
    "    #sampling t is the resolution of the backend\n",
    "    #using armonk v almaden require adjust of measurement time"
   ]
  },
  {
   "cell_type": "code",
   "execution_count": 29,
   "id": "9b017d5a",
   "metadata": {},
   "outputs": [
    {
     "data": {
      "application/vnd.jupyter.widget-view+json": {
       "model_id": "e05262873e32424ca8f670615c89c846",
       "version_major": 2,
       "version_minor": 0
      },
      "text/plain": [
       "VBox(children=(HTML(value=\"<h1 style='color:#ffffff;background-color:#000000;padding-top: 1%;padding-bottom: 1…"
      ]
     },
     "metadata": {},
     "output_type": "display_data"
    },
    {
     "data": {
      "text/plain": [
       "<IBMQBackend('ibmq_armonk') from IBMQ(hub='ibm-q', group='open', project='main')>"
      ]
     },
     "execution_count": 29,
     "metadata": {},
     "output_type": "execute_result"
    }
   ],
   "source": [
    "backend\n",
    "#shows what backend looks like below"
   ]
  },
  {
   "cell_type": "code",
   "execution_count": 31,
   "id": "840d9a1d",
   "metadata": {},
   "outputs": [],
   "source": [
    "backend_defaults = backend.defaults()"
   ]
  },
  {
   "cell_type": "code",
   "execution_count": 32,
   "id": "12aeec0c",
   "metadata": {},
   "outputs": [
    {
     "name": "stdout",
     "output_type": "stream",
     "text": [
      "The Qubit frequency is 4.972 GHZ\n"
     ]
    }
   ],
   "source": [
    "Qubit_Frequency = backend_defaults.qubit_freq_est[0]\n",
    "print (\"The Qubit frequency is %.3f GHZ\"%(Qubit_Frequency*(10**-9)))"
   ]
  },
  {
   "cell_type": "code",
   "execution_count": 33,
   "id": "c7d5e1d1",
   "metadata": {},
   "outputs": [],
   "source": [
    "#Calculate amplitude form complex signal\n",
    "#measurement level 1, this is a way to take those signals and extract\n",
    "#the amplitudes of the inq(?) quadratures\n",
    "def get_ampliptude(vec):\n",
    "    i_signal = np.imag(vec)\n",
    "    r_signal = np.real(vec)\n",
    "    \n",
    "    mvec = [np.mean(r_signal), np.mean(i_signal)]\n",
    "    \n",
    "    src_mat = np.vstack((r_signal - mvec [0], i_signal - mvec[1])).T\n",
    "    (_, _, v_mat) = np.linalg.svd(src_mat)\n",
    "    \n",
    "    dvec = v_mat[0, 0:2]\n",
    "    \n",
    "    if dvec.dot(mvec) < 0:\n",
    "        dvec = -dvec\n",
    "        \n",
    "    return src_mat.dot(dvec)"
   ]
  },
  {
   "cell_type": "code",
   "execution_count": 34,
   "id": "37871931",
   "metadata": {},
   "outputs": [],
   "source": [
    "#use default backend gates to calibrate descriminator\n",
    "calibrations = backend.defaults().instruction_schedule_map"
   ]
  },
  {
   "cell_type": "code",
   "execution_count": 35,
   "id": "2b854fce",
   "metadata": {},
   "outputs": [],
   "source": [
    "qubit = 0\n",
    "#x_gate pulses qubit from 0 to 1 state\n",
    "#gate defined by u3 operation and appropriate angles\n",
    "x_gate = calibrations.get('u3', [qubit], P0=np.pi, P1=0.0, P2=np.pi)\n",
    "measure_gate = calibrations.get('measure', \n",
    "                                qubits=backend_config.meas_map[qubit])"
   ]
  },
  {
   "cell_type": "code",
   "execution_count": 36,
   "id": "4168b0fd",
   "metadata": {},
   "outputs": [],
   "source": [
    "drive_chan = DriveChannel(qubit)\n",
    "meas_chan = MeasureChannel(qubit)\n",
    "acq_chan = AcquireChannel(qubit)\n"
   ]
  },
  {
   "cell_type": "code",
   "execution_count": 37,
   "id": "503608a3",
   "metadata": {},
   "outputs": [],
   "source": [
    "#this is in dt, which is approx 150 ns\n",
    "measure_time = 50"
   ]
  },
  {
   "cell_type": "code",
   "execution_count": 49,
   "id": "b725b59b",
   "metadata": {},
   "outputs": [],
   "source": [
    "#create schedule\n",
    "schedule = Schedule(name='Distribution Comparisons')\n",
    "schedule += x_gate\n",
    "schedule |= measure_gate << measure_time"
   ]
  },
  {
   "cell_type": "code",
   "execution_count": 51,
   "id": "751f923e",
   "metadata": {},
   "outputs": [
    {
     "name": "stdout",
     "output_type": "stream",
     "text": [
      "Traceback \u001b[1;36m(most recent call last)\u001b[0m:\n",
      "  File \u001b[0;32m\"<ipython-input-51-2e0f5a466577>\"\u001b[0m, line \u001b[0;32m1\u001b[0m, in \u001b[0;35m<module>\u001b[0m\n",
      "    schedule.draw(plot_range=[0,75], channels_to_plot=[drive_chan, meas_chan, acq_chan], label=True, scaling=10.0)\n",
      "\u001b[1;36m  File \u001b[1;32m\"/opt/conda/lib/python3.8/site-packages/qiskit/pulse/schedule.py\"\u001b[1;36m, line \u001b[1;32m1422\u001b[1;36m, in \u001b[1;35mwrapper\u001b[1;36m\u001b[0m\n",
      "\u001b[1;33m    return method(*args, **kwargs)\u001b[0m\n",
      "\u001b[1;31mTypeError\u001b[0m\u001b[1;31m:\u001b[0m draw() got an unexpected keyword argument 'channels_to_plot'\n",
      "\n",
      "Use %tb to get the full traceback.\n"
     ]
    },
    {
     "data": {
      "text/html": [
       "\n",
       "<style>\n",
       ".button {\n",
       "  border: none;\n",
       "  color: white;\n",
       "  padding: 4px 8px;\n",
       "  text-align: center;\n",
       "  text-decoration: none;\n",
       "  display: inline-block;\n",
       "  font-size: 12px;\n",
       "  margin: 4px 2px;\n",
       "  transition-duration: 0.2s;\n",
       "  cursor: pointer;\n",
       "}\n",
       ".iqx-button {\n",
       "  background-color: #0f62fe; \n",
       "  color: white; \n",
       "}\n",
       ".iqx-button:hover {\n",
       "  background-color: #0043ce;\n",
       "  color: white;\n",
       "}\n",
       "</style>\n",
       "<a href=\"https://stackoverflow.com/search?q=TypeError: draw() got an unexpected keyword argument 'channels_to_plot'\" target='_blank'><button class='button iqx-button'>Search for solution online</button></a>\n"
      ],
      "text/plain": [
       "<IPython.core.display.HTML object>"
      ]
     },
     "metadata": {},
     "output_type": "display_data"
    }
   ],
   "source": [
    "#draw does not work, update, import or ?\n",
    "schedule.draw(plot_range=[0,75], channels_to_plot=[drive_chan, meas_chan, acq_chan], label=True, scaling=10.0)"
   ]
  },
  {
   "cell_type": "code",
   "execution_count": null,
   "id": "44b82e99",
   "metadata": {},
   "outputs": [],
   "source": []
  }
 ],
 "metadata": {
  "kernelspec": {
   "display_name": "Python 3",
   "language": "python",
   "name": "python3"
  },
  "language_info": {
   "codemirror_mode": {
    "name": "ipython",
    "version": 3
   },
   "file_extension": ".py",
   "mimetype": "text/x-python",
   "name": "python",
   "nbconvert_exporter": "python",
   "pygments_lexer": "ipython3",
   "version": "3.8.8"
  }
 },
 "nbformat": 4,
 "nbformat_minor": 5
}
